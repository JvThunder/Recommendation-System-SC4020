{
 "cells": [
  {
   "cell_type": "code",
   "execution_count": 1,
   "metadata": {},
   "outputs": [],
   "source": [
    "import pandas as pd\n",
    "import numpy as np\n",
    "from models_ncf.neumf import NeuMFEngine\n",
    "from models_ncf.data import SampleGenerator"
   ]
  },
  {
   "cell_type": "code",
   "execution_count": 2,
   "metadata": {},
   "outputs": [],
   "source": [
    "neumf_config = {'alias': 'neumf_first_try',\n",
    "                'num_epoch': 20,\n",
    "                'batch_size': 64,\n",
    "                'optimizer': 'adam',\n",
    "                'adam_lr': 1e-3,\n",
    "                'num_users': 6040,\n",
    "                'num_items': 3706,\n",
    "                'latent_dim_mf': 8,\n",
    "                'latent_dim_mlp': 8,\n",
    "                'num_negative': 4,\n",
    "                'layers': [16, 64, 32, 16, 8],  # layers[0] is the concat of latent user vector & latent item vector\n",
    "                'l2_regularization': 0.0000001,\n",
    "                'weight_init_gaussian': True,\n",
    "                'use_cuda': True,\n",
    "                'use_bachify_eval': True,\n",
    "                'device_id': 0,\n",
    "                'pretrain': False,\n",
    "                'pretrain_mf': 'checkpoints/{}'.format('gmf_factor8neg4_Epoch100_precision0.6391_recall0.2852.model'),\n",
    "                'pretrain_mlp': 'checkpoints/{}'.format('mlp_factor8neg4_Epoch100_precision0.5606_recall0.2463.model'),\n",
    "                'model_dir': 'checkpoints/{}_Epoch{}_precision{:.4f}_recall{:.4f}.model'\n",
    "                }"
   ]
  },
  {
   "cell_type": "code",
   "execution_count": null,
   "metadata": {},
   "outputs": [],
   "source": [
    "# Load Data\n",
    "ml1m_dir = 'goodbooks-10k/ratings.csv'\n",
    "ml1m_rating = pd.read_csv(ml1m_dir, sep=',', header=None, names=['uid', 'bookid', 'rating', 'timestamp'], engine='python')\n",
    "\n",
    "# Ensure 'rating' column is numeric before passing it to SampleGenerator\n",
    "ml1m_rating['rating'] = pd.to_numeric(ml1m_rating['rating'], errors='coerce')\n",
    "\n",
    "# Handle any invalid ratings (optional)\n",
    "ml1m_rating.dropna(subset=['rating'], inplace=True)\n",
    "\n",
    "# Reindex\n",
    "user_id = ml1m_rating[['uid']].drop_duplicates().reindex()\n",
    "user_id['userId'] = np.arange(len(user_id))\n",
    "user_id['userId'] = user_id['userId'].astype(int)  # Convert to integer\n",
    "ml1m_rating = pd.merge(ml1m_rating, user_id, on=['uid'], how='left')\n",
    "\n",
    "item_id = ml1m_rating[['bookid']].drop_duplicates()\n",
    "item_id['itemId'] = np.arange(len(item_id))\n",
    "item_id['itemId'] = item_id['itemId'].astype(int)  # Convert to integer\n",
    "ml1m_rating = pd.merge(ml1m_rating, item_id, on=['bookid'], how='left')\n",
    "\n",
    "ml1m_rating = ml1m_rating[['userId', 'itemId', 'rating', 'timestamp']]\n",
    "\n",
    "# DataLoader for training \n",
    "sample_generator = SampleGenerator(ratings=ml1m_rating)\n",
    "evaluate_data = sample_generator.evaluate_data\n",
    "\n",
    "config = neumf_config\n",
    "engine = NeuMFEngine(config)\n",
    "for epoch in range(config['num_epoch']):\n",
    "    print('Epoch {} starts !'.format(epoch))\n",
    "    print('-' * 80)\n",
    "    train_loader = sample_generator.instance_a_train_loader(config['num_negative'], config['batch_size'])\n",
    "    engine.train_an_epoch(train_loader, epoch_id=epoch)\n",
    "    precision, recall = engine.evaluate(evaluate_data, epoch_id=epoch)\n",
    "    engine.save(config['alias'], epoch, precision, recall)\n"
   ]
  }
 ],
 "metadata": {
  "kernelspec": {
   "display_name": "rec-sys",
   "language": "python",
   "name": "python3"
  },
  "language_info": {
   "codemirror_mode": {
    "name": "ipython",
    "version": 3
   },
   "file_extension": ".py",
   "mimetype": "text/x-python",
   "name": "python",
   "nbconvert_exporter": "python",
   "pygments_lexer": "ipython3",
   "version": "3.9.20"
  }
 },
 "nbformat": 4,
 "nbformat_minor": 2
}
