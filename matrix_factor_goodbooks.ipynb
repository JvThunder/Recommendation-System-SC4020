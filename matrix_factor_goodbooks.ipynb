{
 "cells": [
  {
   "cell_type": "code",
   "execution_count": 5,
   "metadata": {},
   "outputs": [],
   "source": [
    "import numpy as np\n",
    "import pandas as pd\n",
    "import torch\n",
    "import torch.nn as nn\n",
    "import torch.nn.functional as F\n",
    "\n",
    "from utils.matrix_factor_utils import mask_datasets, loss_function, recall_at_k, precision_at_k\n",
    "from models.matrix_factorization import MatrixFactorization\n",
    "from utils.data_utils import build_user_item_interactions, get_positive_negative_ratings"
   ]
  },
  {
   "cell_type": "code",
   "execution_count": 6,
   "metadata": {},
   "outputs": [],
   "source": [
    "device = torch.device('cuda' if torch.cuda.is_available() else 'cpu')"
   ]
  },
  {
   "cell_type": "code",
   "execution_count": 7,
   "metadata": {},
   "outputs": [],
   "source": [
    "from utils.preprocess import load_dataset\n",
    "\n",
    "# Load the dataset\n",
    "dataset = 'goodbooks-10k'\n",
    "users, items, train_ratings, test_ratings, items_features_tensor, user_features_tensor = load_dataset(dataset)"
   ]
  },
  {
   "cell_type": "code",
   "execution_count": 8,
   "metadata": {},
   "outputs": [],
   "source": [
    "rating_matrix_train, mask_matrix_train, \\\n",
    "rating_matrix_val, mask_matrix_val, \\\n",
    "rating_matrix_test, mask_matrix_test = mask_datasets(device, train_ratings, test_ratings, val_ratio=0.1)"
   ]
  },
  {
   "cell_type": "code",
   "execution_count": 9,
   "metadata": {},
   "outputs": [],
   "source": [
    "positive_threshold = 5\n",
    "negative_threshold = 3\n",
    "\n",
    "train_user_item_dict = build_user_item_interactions(train_ratings)\n",
    "test_user_item_dict = build_user_item_interactions(test_ratings)\n",
    "train_user_ratings = get_positive_negative_ratings(train_user_item_dict, positive_threshold, negative_threshold)\n",
    "test_user_ratings = get_positive_negative_ratings(test_user_item_dict, positive_threshold, negative_threshold)"
   ]
  },
  {
   "cell_type": "code",
   "execution_count": 10,
   "metadata": {},
   "outputs": [],
   "source": [
    "latent_dim = 64      # Number of latent factors\n",
    "alpha = 0.01         # Regularization parameter for user factors\n",
    "beta = 0.01          # Regularization parameter for item factors\n",
    "num_epochs = 500     # Number of training epochs\n",
    "learning_rate = 0.001\n",
    "k = 10"
   ]
  },
  {
   "cell_type": "code",
   "execution_count": 11,
   "metadata": {},
   "outputs": [
    {
     "name": "stdout",
     "output_type": "stream",
     "text": [
      "Epoch [10/500], Train Loss: 88318.1800, Train RMSE: 0.9767, Val RMSE: 0.9923, Test RMSE: 0.9867\n",
      "Recall@10: 0.1951, Precision@10: 0.4376\n",
      "Epoch [20/500], Train Loss: 86591.4186, Train RMSE: 0.9671, Val RMSE: 0.9871, Test RMSE: 0.9816\n",
      "Recall@10: 0.1995, Precision@10: 0.4475\n",
      "Epoch [30/500], Train Loss: 84321.4773, Train RMSE: 0.9543, Val RMSE: 0.9815, Test RMSE: 0.9760\n",
      "Recall@10: 0.2012, Precision@10: 0.4512\n",
      "Epoch [40/500], Train Loss: 81353.8064, Train RMSE: 0.9373, Val RMSE: 0.9750, Test RMSE: 0.9697\n",
      "Recall@10: 0.2038, Precision@10: 0.4572\n",
      "Epoch [50/500], Train Loss: 77606.1902, Train RMSE: 0.9155, Val RMSE: 0.9674, Test RMSE: 0.9623\n",
      "Recall@10: 0.2081, Precision@10: 0.4668\n",
      "Epoch [60/500], Train Loss: 73091.4309, Train RMSE: 0.8884, Val RMSE: 0.9587, Test RMSE: 0.9538\n",
      "Recall@10: 0.2122, Precision@10: 0.4759\n",
      "Epoch [70/500], Train Loss: 67922.2316, Train RMSE: 0.8564, Val RMSE: 0.9492, Test RMSE: 0.9446\n",
      "Recall@10: 0.2147, Precision@10: 0.4816\n",
      "Epoch [80/500], Train Loss: 62296.1685, Train RMSE: 0.8201, Val RMSE: 0.9395, Test RMSE: 0.9351\n",
      "Recall@10: 0.2170, Precision@10: 0.4867\n",
      "Epoch [90/500], Train Loss: 56461.7666, Train RMSE: 0.7807, Val RMSE: 0.9302, Test RMSE: 0.9261\n",
      "Recall@10: 0.2176, Precision@10: 0.4881\n",
      "Epoch [100/500], Train Loss: 50670.8304, Train RMSE: 0.7395, Val RMSE: 0.9223, Test RMSE: 0.9182\n",
      "Recall@10: 0.2179, Precision@10: 0.4887\n",
      "Epoch [110/500], Train Loss: 45132.4084, Train RMSE: 0.6978, Val RMSE: 0.9163, Test RMSE: 0.9122\n",
      "Recall@10: 0.2192, Precision@10: 0.4916\n",
      "Epoch [120/500], Train Loss: 39987.2178, Train RMSE: 0.6566, Val RMSE: 0.9124, Test RMSE: 0.9082\n",
      "Recall@10: 0.2190, Precision@10: 0.4913\n",
      "Epoch [130/500], Train Loss: 35308.7221, Train RMSE: 0.6169, Val RMSE: 0.9106, Test RMSE: 0.9062\n",
      "Recall@10: 0.2197, Precision@10: 0.4928\n",
      "Epoch [140/500], Train Loss: 31119.6498, Train RMSE: 0.5790, Val RMSE: 0.9106, Test RMSE: 0.9061\n",
      "Recall@10: 0.2209, Precision@10: 0.4955\n",
      "Converged at epoch 144\n"
     ]
    }
   ],
   "source": [
    "# Initialize the model\n",
    "num_users, num_items = rating_matrix_train.shape\n",
    "\n",
    "model = MatrixFactorization(num_users, num_items, latent_dim, rating_matrix_train).to(device)\n",
    "early_stop = 0\n",
    "best_val_rmse = float('inf')\n",
    "\n",
    "# Optimizer\n",
    "optimizer = torch.optim.Adam(model.parameters(), lr=learning_rate)\n",
    "\n",
    "# Training loop\n",
    "for epoch in range(1, num_epochs + 1):\n",
    "    model.train()\n",
    "    optimizer.zero_grad()\n",
    "    \n",
    "    # Forward pass\n",
    "    pred_ratings = model()\n",
    "    \n",
    "    # Compute loss\n",
    "    loss = loss_function(pred_ratings, rating_matrix_train, mask_matrix_train, model, alpha, beta)\n",
    "    \n",
    "    # Backward pass and optimization\n",
    "    loss.backward()\n",
    "    optimizer.step()\n",
    "    \n",
    "    # Compute RMSE on observed ratings\n",
    "    with torch.no_grad():\n",
    "        train_mse = ((mask_matrix_train * (rating_matrix_train - pred_ratings)) ** 2).sum() / mask_matrix_train.sum()\n",
    "        train_rmse = torch.sqrt(train_mse)\n",
    "\n",
    "        val_mse = ((mask_matrix_val * (rating_matrix_val - pred_ratings)) ** 2).sum() / mask_matrix_val.sum()\n",
    "        val_rmse = torch.sqrt(val_mse)\n",
    "\n",
    "        test_mse = ((mask_matrix_test * (rating_matrix_test - pred_ratings)) ** 2).sum() / mask_matrix_test.sum()\n",
    "        test_rmse = torch.sqrt(test_mse)\n",
    "\n",
    "    # Early stopping\n",
    "    if val_rmse < best_val_rmse:\n",
    "        best_val_rmse = val_rmse\n",
    "        early_stop = 0\n",
    "    else:\n",
    "        early_stop += 1\n",
    "        if early_stop == 10:\n",
    "            print(f'Converged at epoch {epoch}')\n",
    "            break\n",
    "    \n",
    "    # Print progress\n",
    "    if epoch % 10 == 0:\n",
    "        recall = recall_at_k(train_user_ratings, model.embeddings, k=10)\n",
    "        precision = precision_at_k(train_user_ratings, model.embeddings, k=10)\n",
    "        print(f'Epoch [{epoch}/{num_epochs}], Train Loss: {loss.item():.4f}, Train RMSE: {train_rmse.item():.4f}, Val RMSE: {val_rmse.item():.4f}, Test RMSE: {test_rmse.item():.4f}')\n",
    "        print(f'Recall@{k}: {recall:.4f}, Precision@{k}: {precision:.4f}')"
   ]
  },
  {
   "cell_type": "code",
   "execution_count": 12,
   "metadata": {},
   "outputs": [
    {
     "name": "stdout",
     "output_type": "stream",
     "text": [
      "Test Recall@10: 0.8497, Test Precision@10: 0.7057\n"
     ]
    }
   ],
   "source": [
    "recall = recall_at_k(test_user_ratings, model.embeddings, k=10)\n",
    "precision = precision_at_k(test_user_ratings, model.embeddings, k=10)\n",
    "\n",
    "print(f'Test Recall@{k}: {recall:.4f}, Test Precision@{k}: {precision:.4f}')"
   ]
  },
  {
   "cell_type": "code",
   "execution_count": null,
   "metadata": {},
   "outputs": [],
   "source": []
  }
 ],
 "metadata": {
  "kernelspec": {
   "display_name": "gnn",
   "language": "python",
   "name": "python3"
  },
  "language_info": {
   "codemirror_mode": {
    "name": "ipython",
    "version": 3
   },
   "file_extension": ".py",
   "mimetype": "text/x-python",
   "name": "python",
   "nbconvert_exporter": "python",
   "pygments_lexer": "ipython3",
   "version": "3.9.18"
  }
 },
 "nbformat": 4,
 "nbformat_minor": 2
}
